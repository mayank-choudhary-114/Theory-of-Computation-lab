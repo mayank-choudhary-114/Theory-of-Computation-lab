{
 "cells": [
  {
   "cell_type": "markdown",
   "metadata": {},
   "source": [
    "WAP for Deterministic Finite Automata (DFA)."
   ]
  },
  {
   "cell_type": "code",
   "execution_count": null,
   "metadata": {},
   "outputs": [],
   "source": [
    "class DFA:\n",
    "    def dfa(self):\n",
    "        dfa={0:{'a':1,'b':2},1:{'a':1,'b':1},2:{'a':2,'b':2}}\n",
    "        string=input(\"Enter the string:\")\n",
    "        print(\"String given by you: \",string)\n",
    "        flag=1\n",
    "        for i in string:\n",
    "            if (string.count('a')+string.count('b')!=len(string)):\n",
    "                print(\"Invalid string\")\n",
    "                flag=0\n",
    "                break\n",
    "        if (flag==1):\n",
    "            if (string[0]!='a'):\n",
    "                print(\"Invalid string\")\n",
    "            else:\n",
    "                print(\"Valid string\")\n",
    "d=DFA()\n",
    "d.dfa()\n",
    "while 1:\n",
    "    print(\"DO YOU WANT TO CONTINUE y OR n\")\n",
    "    ch=input()\n",
    "    if ch==\"y\":\n",
    "        d.dfa()\n",
    "    else:\n",
    "        print(\"YOU ARE EXITED FROM THE PROGRAM\")\n",
    "        break"
   ]
  }
 ],
 "metadata": {
  "kernelspec": {
   "display_name": "Python 3",
   "language": "python",
   "name": "python3"
  },
  "language_info": {
   "codemirror_mode": {
    "name": "ipython",
    "version": 3
   },
   "file_extension": ".py",
   "mimetype": "text/x-python",
   "name": "python",
   "nbconvert_exporter": "python",
   "pygments_lexer": "ipython3",
   "version": "3.7.3"
  }
 },
 "nbformat": 4,
 "nbformat_minor": 4
}
