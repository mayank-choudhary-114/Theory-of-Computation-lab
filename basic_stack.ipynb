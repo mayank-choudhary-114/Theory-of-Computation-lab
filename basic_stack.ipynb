{
 "cells": [
  {
   "cell_type": "markdown",
   "metadata": {},
   "source": [
    "Basic stack program for push,pop,print stack and size of stack operations."
   ]
  },
  {
   "cell_type": "code",
   "execution_count": null,
   "metadata": {},
   "outputs": [
    {
     "name": "stdout",
     "output_type": "stream",
     "text": [
      "\n",
      "1 for push\n",
      "2 for pop\n",
      "3 for size\n",
      "4 for check empty or not\n",
      "5 for print stack elements\n",
      "6 for stop\n"
     ]
    },
    {
     "name": "stdin",
     "output_type": "stream",
     "text": [
      "Enter your choice: 1\n",
      "Enter element: 10\n"
     ]
    },
    {
     "name": "stdout",
     "output_type": "stream",
     "text": [
      "10 is in stack\n",
      "\n",
      "1 for push\n",
      "2 for pop\n",
      "3 for size\n",
      "4 for check empty or not\n",
      "5 for print stack elements\n",
      "6 for stop\n"
     ]
    },
    {
     "name": "stdin",
     "output_type": "stream",
     "text": [
      "Enter your choice: 1\n",
      "Enter element: 20\n"
     ]
    },
    {
     "name": "stdout",
     "output_type": "stream",
     "text": [
      "20 is in stack\n",
      "\n",
      "1 for push\n",
      "2 for pop\n",
      "3 for size\n",
      "4 for check empty or not\n",
      "5 for print stack elements\n",
      "6 for stop\n"
     ]
    },
    {
     "name": "stdin",
     "output_type": "stream",
     "text": [
      "Enter your choice: 1\n",
      "Enter element: 30\n"
     ]
    },
    {
     "name": "stdout",
     "output_type": "stream",
     "text": [
      "30 is in stack\n",
      "\n",
      "1 for push\n",
      "2 for pop\n",
      "3 for size\n",
      "4 for check empty or not\n",
      "5 for print stack elements\n",
      "6 for stop\n"
     ]
    },
    {
     "name": "stdin",
     "output_type": "stream",
     "text": [
      "Enter your choice: 5\n"
     ]
    },
    {
     "name": "stdout",
     "output_type": "stream",
     "text": [
      "your stack elements are:  ['10', '20', '30']\n",
      "\n",
      "1 for push\n",
      "2 for pop\n",
      "3 for size\n",
      "4 for check empty or not\n",
      "5 for print stack elements\n",
      "6 for stop\n"
     ]
    },
    {
     "name": "stdin",
     "output_type": "stream",
     "text": [
      "Enter your choice: 2\n"
     ]
    },
    {
     "name": "stdout",
     "output_type": "stream",
     "text": [
      "element popped\n",
      "\n",
      "1 for push\n",
      "2 for pop\n",
      "3 for size\n",
      "4 for check empty or not\n",
      "5 for print stack elements\n",
      "6 for stop\n"
     ]
    }
   ],
   "source": [
    "class stack:\n",
    "    def __init__(self):\n",
    "        self.a=[]\n",
    "    def push(self,x):\n",
    "        self.a.append(x)#x is an item\n",
    "    def pop(self):\n",
    "        self.a.pop()\n",
    "    def size(self):\n",
    "        print(\"size of stack is: \",len(self.a))\n",
    "    def isempty(self):\n",
    "        if len(self.a)==0:\n",
    "            print(\"stack is empty\")\n",
    "        else:\n",
    "            print(\"stack have \",len(self.a),\" element\")\n",
    "    def print_stack(self):\n",
    "        print(\"your stack elements are: \",self.a)\n",
    "s1=stack()\n",
    "while 1:\n",
    "    print(\"\\n1 for push\\n2 for pop\\n3 for size\\n4 for check empty or not\\n5 for print stack elements\\n6 for stop\")\n",
    "    c=int(input(\"Enter your choice:\"))\n",
    "    if c==1:\n",
    "        i=input(\"Enter element:\")\n",
    "        s1.push(i)\n",
    "        print(i,\"is in stack\")\n",
    "    if c==2:\n",
    "        b=s1.pop()\n",
    "        print(\"element popped\")\n",
    "    if c==3:\n",
    "        s1.size()\n",
    "    if c==4:\n",
    "        s1.isempty()\n",
    "    if c==5:\n",
    "        s1.print_stack()\n",
    "    if c==6:\n",
    "        print(\"** your program is stopped **\")\n",
    "        break"
   ]
  },
  {
   "cell_type": "code",
   "execution_count": null,
   "metadata": {},
   "outputs": [],
   "source": []
  }
 ],
 "metadata": {
  "kernelspec": {
   "display_name": "Python 3",
   "language": "python",
   "name": "python3"
  },
  "language_info": {
   "codemirror_mode": {
    "name": "ipython",
    "version": 3
   },
   "file_extension": ".py",
   "mimetype": "text/x-python",
   "name": "python",
   "nbconvert_exporter": "python",
   "pygments_lexer": "ipython3",
   "version": "3.7.3"
  }
 },
 "nbformat": 4,
 "nbformat_minor": 4
}
