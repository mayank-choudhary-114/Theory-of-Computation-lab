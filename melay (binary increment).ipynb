{
 "cells": [
  {
   "cell_type": "code",
   "execution_count": null,
   "metadata": {},
   "outputs": [],
   "source": [
    "Mealy machine that increment a binary number by 1"
   ]
  },
  {
   "cell_type": "code",
   "execution_count": 1,
   "metadata": {},
   "outputs": [
    {
     "name": "stdin",
     "output_type": "stream",
     "text": [
      "Enter any string:  1010\n"
     ]
    },
    {
     "name": "stdout",
     "output_type": "stream",
     "text": [
      "Increment by 1 of given string  1010  is: 1011\n",
      "\n",
      "1 for continue | 2 for stop\n"
     ]
    },
    {
     "name": "stdin",
     "output_type": "stream",
     "text": [
      "Enter your choice: 1\n"
     ]
    },
    {
     "name": "stdout",
     "output_type": "stream",
     "text": [
      "you choose  1  option\n"
     ]
    },
    {
     "name": "stdin",
     "output_type": "stream",
     "text": [
      "Enter any string:  1111\n"
     ]
    },
    {
     "name": "stdout",
     "output_type": "stream",
     "text": [
      "Increment by 1 of given string  1111  is: 0000\n",
      "\n",
      "1 for continue | 2 for stop\n"
     ]
    },
    {
     "name": "stdin",
     "output_type": "stream",
     "text": [
      "Enter your choice: 1\n"
     ]
    },
    {
     "name": "stdout",
     "output_type": "stream",
     "text": [
      "you choose  1  option\n"
     ]
    },
    {
     "name": "stdin",
     "output_type": "stream",
     "text": [
      "Enter any string:  1011\n"
     ]
    },
    {
     "name": "stdout",
     "output_type": "stream",
     "text": [
      "Increment by 1 of given string  1011  is: 1100\n",
      "\n",
      "1 for continue | 2 for stop\n"
     ]
    },
    {
     "name": "stdin",
     "output_type": "stream",
     "text": [
      "Enter your choice: 2\n"
     ]
    },
    {
     "name": "stdout",
     "output_type": "stream",
     "text": [
      "you choose  2  option\n",
      "you are exited\n"
     ]
    }
   ],
   "source": [
    "while True:\n",
    "    dfa={'A':{'0':{'output':'1','state':'B'},'1':{'output':'0','state':'A'}},\n",
    "         'B':{'0':{'output':'0','state':'B'},'1':{'output':'1','state':'B'}}}\n",
    "    st=input(\"Enter any string: \")\n",
    "    print(\"Increment by 1 of given string \",st,\" is: \",end=\"\")\n",
    "    st=st[::-1]\n",
    "    ini='A'\n",
    "    output=[]\n",
    "    for i in st:\n",
    "        output.append(dfa[ini][i]['output'])\n",
    "        ini=dfa[ini][i]['state']\n",
    "    print(''.join(output[::-1]))\n",
    "    print(\"\\n1 for continue | 2 for stop\")\n",
    "    c=int(input(\"Enter your choice:\"))\n",
    "    print(\"you choose \",c,\" option\")\n",
    "    if c==2:\n",
    "        print(\"you are exited\")\n",
    "        break\n"
   ]
  }
 ],
 "metadata": {
  "kernelspec": {
   "display_name": "Python 3",
   "language": "python",
   "name": "python3"
  },
  "language_info": {
   "codemirror_mode": {
    "name": "ipython",
    "version": 3
   },
   "file_extension": ".py",
   "mimetype": "text/x-python",
   "name": "python",
   "nbconvert_exporter": "python",
   "pygments_lexer": "ipython3",
   "version": "3.7.3"
  }
 },
 "nbformat": 4,
 "nbformat_minor": 4
}
