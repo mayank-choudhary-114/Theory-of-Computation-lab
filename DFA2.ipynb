{
 "cells": [
  {
   "cell_type": "markdown",
   "metadata": {},
   "source": [
    "WAP for DFA machine using class."
   ]
  },
  {
   "cell_type": "code",
   "execution_count": 2,
   "metadata": {},
   "outputs": [
    {
     "name": "stdin",
     "output_type": "stream",
     "text": [
      "Enter number of states:  3\n",
      "Enter alphabets values:  a b\n"
     ]
    },
    {
     "name": "stdout",
     "output_type": "stream",
     "text": [
      "A  on input a State = "
     ]
    },
    {
     "name": "stdin",
     "output_type": "stream",
     "text": [
      " B\n"
     ]
    },
    {
     "name": "stdout",
     "output_type": "stream",
     "text": [
      "A  on input b State = "
     ]
    },
    {
     "name": "stdin",
     "output_type": "stream",
     "text": [
      " B\n"
     ]
    },
    {
     "name": "stdout",
     "output_type": "stream",
     "text": [
      "B  on input a State = "
     ]
    },
    {
     "name": "stdin",
     "output_type": "stream",
     "text": [
      " C\n"
     ]
    },
    {
     "name": "stdout",
     "output_type": "stream",
     "text": [
      "B  on input b State = "
     ]
    },
    {
     "name": "stdin",
     "output_type": "stream",
     "text": [
      " C\n"
     ]
    },
    {
     "name": "stdout",
     "output_type": "stream",
     "text": [
      "C  on input a State = "
     ]
    },
    {
     "name": "stdin",
     "output_type": "stream",
     "text": [
      " A\n"
     ]
    },
    {
     "name": "stdout",
     "output_type": "stream",
     "text": [
      "C  on input b State = "
     ]
    },
    {
     "name": "stdin",
     "output_type": "stream",
     "text": [
      " A\n",
      "Enter initial state:  A\n",
      "Enter final state:  A\n",
      "Enter string:  ababab\n"
     ]
    },
    {
     "name": "stdout",
     "output_type": "stream",
     "text": [
      "your given string  ababab  is  True\n",
      "1 for continue | 2 for stop\n"
     ]
    },
    {
     "name": "stdin",
     "output_type": "stream",
     "text": [
      "enter your choice: 1\n",
      "Enter number of states:  3\n",
      "Enter alphabets values:  a b\n"
     ]
    },
    {
     "name": "stdout",
     "output_type": "stream",
     "text": [
      "A  on input a State = "
     ]
    },
    {
     "name": "stdin",
     "output_type": "stream",
     "text": [
      " B\n"
     ]
    },
    {
     "name": "stdout",
     "output_type": "stream",
     "text": [
      "A  on input b State = "
     ]
    },
    {
     "name": "stdin",
     "output_type": "stream",
     "text": [
      " B\n"
     ]
    },
    {
     "name": "stdout",
     "output_type": "stream",
     "text": [
      "B  on input a State = "
     ]
    },
    {
     "name": "stdin",
     "output_type": "stream",
     "text": [
      " C\n"
     ]
    },
    {
     "name": "stdout",
     "output_type": "stream",
     "text": [
      "B  on input b State = "
     ]
    },
    {
     "name": "stdin",
     "output_type": "stream",
     "text": [
      " C\n"
     ]
    },
    {
     "name": "stdout",
     "output_type": "stream",
     "text": [
      "C  on input a State = "
     ]
    },
    {
     "name": "stdin",
     "output_type": "stream",
     "text": [
      " A\n"
     ]
    },
    {
     "name": "stdout",
     "output_type": "stream",
     "text": [
      "C  on input b State = "
     ]
    },
    {
     "name": "stdin",
     "output_type": "stream",
     "text": [
      " A\n",
      "Enter initial state:  A\n",
      "Enter final state:  A\n",
      "Enter string:  abababab\n"
     ]
    },
    {
     "name": "stdout",
     "output_type": "stream",
     "text": [
      "your given string  abababab  is  False\n",
      "1 for continue | 2 for stop\n"
     ]
    },
    {
     "name": "stdin",
     "output_type": "stream",
     "text": [
      "enter your choice: 2\n"
     ]
    },
    {
     "name": "stdout",
     "output_type": "stream",
     "text": [
      "Your program is stopped\n"
     ]
    }
   ],
   "source": [
    "class DFA:\n",
    "    def __init__(s):\n",
    "        s.d={}\n",
    "        s.state=int(input(\"Enter number of states: \"))\n",
    "        s.l=[x for x in input(\"Enter alphabets values: \").split()]\n",
    "        s.r=\"A\"\n",
    "        for i in range(s.state):\n",
    "            s.d[s.r]={}\n",
    "            for j in s.l:\n",
    "                print(s.r,\" on input\",j,\"State = \",end=\"\")\n",
    "                a=input()\n",
    "                s.d[s.r][j]=a\n",
    "            s.r=chr(ord(s.r)+1)\n",
    "        s.ini=input(\"Enter initial state: \")\n",
    "        s.f=input(\"Enter final state: \")\n",
    "    def true_string(s,st):\n",
    "        x=s.ini\n",
    "        for i in st:\n",
    "            x=s.d[x][i]\n",
    "        return x==s.f\n",
    "while True:\n",
    "    o=DFA()\n",
    "    s=input(\"Enter string: \")\n",
    "    print(\"your given string \",s,\" is \",o.true_string(s))\n",
    "    print(\"1 for continue | 2 for stop\")\n",
    "    x= int(input(\"enter your choice:\"))\n",
    "    if x==2:\n",
    "        print(\"Your program is stopped\")\n",
    "        break"
   ]
  }
 ],
 "metadata": {
  "kernelspec": {
   "display_name": "Python 3",
   "language": "python",
   "name": "python3"
  },
  "language_info": {
   "codemirror_mode": {
    "name": "ipython",
    "version": 3
   },
   "file_extension": ".py",
   "mimetype": "text/x-python",
   "name": "python",
   "nbconvert_exporter": "python",
   "pygments_lexer": "ipython3",
   "version": "3.7.3"
  }
 },
 "nbformat": 4,
 "nbformat_minor": 4
}
