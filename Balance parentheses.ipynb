{
 "cells": [
  {
   "cell_type": "markdown",
   "metadata": {},
   "source": [
    "WAP to check parentheses are balanced or not."
   ]
  },
  {
   "cell_type": "code",
   "execution_count": 3,
   "metadata": {},
   "outputs": [
    {
     "name": "stdin",
     "output_type": "stream",
     "text": [
      "Enter string:  ((()))\n"
     ]
    },
    {
     "name": "stdout",
     "output_type": "stream",
     "text": [
      "[]\n",
      "['(']\n",
      "['(', '(']\n",
      "['(', '(', '(']\n",
      "BALANCED\n",
      "do you want to continue y or n\n"
     ]
    },
    {
     "name": "stdin",
     "output_type": "stream",
     "text": [
      " y\n",
      "Enter string:  ((())\n"
     ]
    },
    {
     "name": "stdout",
     "output_type": "stream",
     "text": [
      "[]\n",
      "['(']\n",
      "['(', '(']\n",
      "['(', '(', '(']\n",
      "NOT BALANCED\n",
      "do you want to continue y or n\n"
     ]
    },
    {
     "name": "stdin",
     "output_type": "stream",
     "text": [
      " n\n"
     ]
    },
    {
     "name": "stdout",
     "output_type": "stream",
     "text": [
      "** you are exited from the program **\n"
     ]
    }
   ],
   "source": [
    "class Stack:\n",
    "    def __init__(self):\n",
    "        self.a=[]\n",
    "    def push(self,i):\n",
    "        self.a.append(i)\n",
    "        print(self.a)\n",
    "    def pop(self):\n",
    "        self.a.pop()\n",
    "    def size(self):    \n",
    "        return len(self.a)\n",
    "    def isempty(self):\n",
    "        return len(self.a)==0\n",
    "    def Bal_Par(self):\n",
    "        a = Stack()\n",
    "        s = input(\"Enter string: \")\n",
    "        print(self.a)\n",
    "        for i in s:\n",
    "            if (i=='('):\n",
    "                self.push(i)\n",
    "            if(i==')'):  \n",
    "                self.pop()\n",
    "        if (len(self.a)==0):\n",
    "            print(\"BALANCED\")\n",
    "        else:\n",
    "            print(\"NOT BALANCED\")\n",
    "        print(\"do you want to continue y or n\")\n",
    "        ch1=input()\n",
    "        if ch1==\"y\":\n",
    "            a.Bal_Par()\n",
    "        else:\n",
    "            print(\"** you are exited from the program **\")\n",
    "s=Stack()\n",
    "s.Bal_Par()"
   ]
  },
  {
   "cell_type": "markdown",
   "metadata": {},
   "source": [
    "WAP for hetrogenous parentheses to check balanced or not."
   ]
  },
  {
   "cell_type": "code",
   "execution_count": 4,
   "metadata": {},
   "outputs": [
    {
     "name": "stdin",
     "output_type": "stream",
     "text": [
      "Enter string:  (({{}}[]))\n"
     ]
    },
    {
     "name": "stdout",
     "output_type": "stream",
     "text": [
      "True\n",
      "do you want to continue y or n\n"
     ]
    },
    {
     "name": "stdin",
     "output_type": "stream",
     "text": [
      " y\n",
      "Enter string:  (({{[]})\n"
     ]
    },
    {
     "name": "stdout",
     "output_type": "stream",
     "text": [
      "False\n",
      "do you want to continue y or n\n"
     ]
    },
    {
     "name": "stdin",
     "output_type": "stream",
     "text": [
      " n\n"
     ]
    },
    {
     "name": "stdout",
     "output_type": "stream",
     "text": [
      "** you are exited from the program **\n"
     ]
    }
   ],
   "source": [
    "class Stack:\n",
    "    def __init__(self):\n",
    "        self.a=[]\n",
    "    def push(self,x):\n",
    "        self.a.append(x)\n",
    "    def pop(self):\n",
    "        return self.a.pop()\n",
    "    def isempty(self):\n",
    "        return len(self.a)==0\n",
    "    def Bal_par(self):\n",
    "        string=input(\"Enter string: \")\n",
    "        o1=Stack()\n",
    "        o2=Stack()\n",
    "        o3=Stack()\n",
    "        for i in string:\n",
    "            if i==\"(\":\n",
    "                o1.push(1)\n",
    "            elif i==\")\":\n",
    "                if o1.isempty():\n",
    "                    return False\n",
    "                o1.pop()\n",
    "            if i==\"{\":\n",
    "                o2.push(1)\n",
    "            elif i==\"}\":\n",
    "                if o2.isempty():\n",
    "                    return False\n",
    "                o2.pop()\n",
    "            if i==\"[\":\n",
    "                o3.push(1)\n",
    "            elif i==\"]\":\n",
    "                if o3.isempty():\n",
    "                    return False\n",
    "                o3.pop()\n",
    "        print(o1.isempty()and o2.isempty() and o3.isempty())\n",
    "        print(\"do you want to continue y or n\")\n",
    "        ch=input()\n",
    "        if ch==\"y\":\n",
    "            s1.Bal_par()\n",
    "        else:\n",
    "            print(\"** you are exited from the program **\")\n",
    "s1=Stack()\n",
    "s1.Bal_par()"
   ]
  }
 ],
 "metadata": {
  "kernelspec": {
   "display_name": "Python 3",
   "language": "python",
   "name": "python3"
  },
  "language_info": {
   "codemirror_mode": {
    "name": "ipython",
    "version": 3
   },
   "file_extension": ".py",
   "mimetype": "text/x-python",
   "name": "python",
   "nbconvert_exporter": "python",
   "pygments_lexer": "ipython3",
   "version": "3.7.3"
  }
 },
 "nbformat": 4,
 "nbformat_minor": 4
}
