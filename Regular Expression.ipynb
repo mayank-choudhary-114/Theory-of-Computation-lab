{
 "cells": [
  {
   "cell_type": "markdown",
   "metadata": {},
   "source": [
    "Enrollment Number"
   ]
  },
  {
   "cell_type": "code",
   "execution_count": 2,
   "metadata": {},
   "outputs": [
    {
     "name": "stdin",
     "output_type": "stream",
     "text": [
      " 0827CS171114\n"
     ]
    },
    {
     "name": "stdout",
     "output_type": "stream",
     "text": [
      "your input: 0827CS171114\n",
      "YES! We have a match!\n"
     ]
    }
   ],
   "source": [
    "import re\n",
    "txt=input()\n",
    "print(\"your input:\",txt)\n",
    "x = re.search(\"^0827+CS|IT|ME|CE+171[001-248]$\", txt)\n",
    "if (x):\n",
    "  print(\"YES! We have a match!\")\n",
    "else:\n",
    "  print(\"No match\")"
   ]
  },
  {
   "cell_type": "markdown",
   "metadata": {},
   "source": [
    "Email ID"
   ]
  },
  {
   "cell_type": "code",
   "execution_count": 4,
   "metadata": {},
   "outputs": [
    {
     "name": "stdin",
     "output_type": "stream",
     "text": [
      " mayank@gmail.com\n"
     ]
    },
    {
     "name": "stdout",
     "output_type": "stream",
     "text": [
      "your input: mayank@gmail.com\n",
      "YES! We have a match!\n"
     ]
    }
   ],
   "source": [
    "import re\n",
    "txt = input()\n",
    "print(\"your input:\",txt)\n",
    "x = re.search(\".+@.+\\.com|\\.in|\\.co.in\", txt)\n",
    "if (x):\n",
    "  print(\"YES! We have a match!\")\n",
    "else:\n",
    "  print(\"No match\")"
   ]
  },
  {
   "cell_type": "markdown",
   "metadata": {},
   "source": [
    "Mobile Number"
   ]
  },
  {
   "cell_type": "code",
   "execution_count": 6,
   "metadata": {},
   "outputs": [
    {
     "name": "stdin",
     "output_type": "stream",
     "text": [
      " 9009678654\n"
     ]
    },
    {
     "name": "stdout",
     "output_type": "stream",
     "text": [
      "your input: 9009678654\n",
      "YES! We have a match!\n"
     ]
    }
   ],
   "source": [
    "import re\n",
    "txt = input()\n",
    "print(\"your input:\",txt)\n",
    "x = re.search(\"^\\+91[0-9]{10}$|^[0-9]{10}$\", txt)\n",
    "if (x):\n",
    "  print(\"YES! We have a match!\")\n",
    "else:\n",
    "  print(\"No match\")"
   ]
  },
  {
   "cell_type": "markdown",
   "metadata": {},
   "source": [
    "even no of a's and any number of b's or even no of b's and any number of a's"
   ]
  },
  {
   "cell_type": "code",
   "execution_count": 1,
   "metadata": {},
   "outputs": [
    {
     "name": "stdin",
     "output_type": "stream",
     "text": [
      " aabaa\n"
     ]
    },
    {
     "name": "stdout",
     "output_type": "stream",
     "text": [
      "your input: aabaa\n",
      "YES! We have a match!\n"
     ]
    }
   ],
   "source": [
    "import re\n",
    "txt = input()\n",
    "print(\"your input:\",txt)\n",
    "x = re.search(\"^(b*ab*ab*)*$|^(a*ba*ba*)*\", txt)\n",
    "if (x):\n",
    "  print(\"YES! We have a match!\")\n",
    "else:\n",
    "  print(\"No match\")"
   ]
  },
  {
   "cell_type": "markdown",
   "metadata": {},
   "source": [
    "Starting with 1 and end with 0 or starting with 0 and end with 1."
   ]
  },
  {
   "cell_type": "code",
   "execution_count": 2,
   "metadata": {},
   "outputs": [
    {
     "name": "stdin",
     "output_type": "stream",
     "text": [
      " 10101\n"
     ]
    },
    {
     "name": "stdout",
     "output_type": "stream",
     "text": [
      "your input: 10101\n",
      "No match\n"
     ]
    }
   ],
   "source": [
    "import re\n",
    "txt=input()\n",
    "print(\"your input:\",txt)\n",
    "x = re.search(\"^0[0-1]*1$|^1[0-1]*0$\", txt)\n",
    "if (x):\n",
    "  print(\"YES! We have a match!\")\n",
    "else:\n",
    "  print(\"No match\")"
   ]
  },
  {
   "cell_type": "markdown",
   "metadata": {},
   "source": [
    "end with 00 or end with 11"
   ]
  },
  {
   "cell_type": "code",
   "execution_count": 3,
   "metadata": {},
   "outputs": [
    {
     "name": "stdin",
     "output_type": "stream",
     "text": [
      " 1101\n"
     ]
    },
    {
     "name": "stdout",
     "output_type": "stream",
     "text": [
      "your input: 1101\n",
      "No match\n"
     ]
    }
   ],
   "source": [
    "import re\n",
    "txt=input()\n",
    "print(\"your input:\",txt)\n",
    "x = re.search(\"[0-1]*00$|[0-1]*11$\", txt)\n",
    "if (x):\n",
    "  print(\"YES! We have a match!\")\n",
    "else:\n",
    "  print(\"No match\")"
   ]
  },
  {
   "cell_type": "markdown",
   "metadata": {},
   "source": [
    "start with 11 and end with 00"
   ]
  },
  {
   "cell_type": "code",
   "execution_count": null,
   "metadata": {},
   "outputs": [],
   "source": [
    "import re\n",
    "txt=input()\n",
    "\n",
    "x = re.search(\"^11[0-1]*00$\", txt)\n",
    "if (x):\n",
    "  print(\"YES! We have a match!\")\n",
    "else:\n",
    "  print(\"No match\")"
   ]
  }
 ],
 "metadata": {
  "kernelspec": {
   "display_name": "Python 3",
   "language": "python",
   "name": "python3"
  },
  "language_info": {
   "codemirror_mode": {
    "name": "ipython",
    "version": 3
   },
   "file_extension": ".py",
   "mimetype": "text/x-python",
   "name": "python",
   "nbconvert_exporter": "python",
   "pygments_lexer": "ipython3",
   "version": "3.7.3"
  }
 },
 "nbformat": 4,
 "nbformat_minor": 4
}
