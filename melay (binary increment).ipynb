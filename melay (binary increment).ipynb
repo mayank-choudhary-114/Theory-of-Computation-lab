{
 "cells": [
  {
   "cell_type": "code",
   "execution_count": null,
   "metadata": {},
   "outputs": [],
   "source": []
  },
  {
   "cell_type": "code",
   "execution_count": null,
   "metadata": {},
   "outputs": [],
   "source": [
    "while True:\n",
    "    dfa={'A':{'0':{'output':'1','state':'B'},'1':{'output':'0','state':'A'}},\n",
    "         'B':{'0':{'output':'0','state':'B'},'1':{'output':'1','state':'B'}}}\n",
    "    st=input(\"Enter any string: \")\n",
    "    print(\"Increment by 1 of given string \",st,\" is: \",end=\"\")\n",
    "    st=st[::-1]\n",
    "    ini='A'\n",
    "    output=[]\n",
    "    for i in st:\n",
    "        output.append(dfa[ini][i]['output'])\n",
    "        ini=dfa[ini][i]['state']\n",
    "    print(\"OUTPUT:  \",''.join(output[::-1]))\n",
    "    print(\"\\n1 for continue | 2 for stop\")\n",
    "    c=int(input(\"Enter your choice:\"))\n",
    "    print(\"you choose \",c,\" option\")\n",
    "    if c==2:\n",
    "        print(\"you are exited\")\n",
    "        break\n"
   ]
  }
 ],
 "metadata": {
  "kernelspec": {
   "display_name": "Python 3",
   "language": "python",
   "name": "python3"
  },
  "language_info": {
   "codemirror_mode": {
    "name": "ipython",
    "version": 3
   },
   "file_extension": ".py",
   "mimetype": "text/x-python",
   "name": "python",
   "nbconvert_exporter": "python",
   "pygments_lexer": "ipython3",
   "version": "3.7.3"
  }
 },
 "nbformat": 4,
 "nbformat_minor": 4
}
