{
 "cells": [
  {
   "cell_type": "markdown",
   "metadata": {},
   "source": [
    "WAP to accept a sentence & count number of character,vowel,special symbols and spaces."
   ]
  },
  {
   "cell_type": "code",
   "execution_count": 4,
   "metadata": {},
   "outputs": [
    {
     "name": "stdin",
     "output_type": "stream",
     "text": [
      "Enter any string:  hello!! world !!\n"
     ]
    },
    {
     "name": "stdout",
     "output_type": "stream",
     "text": [
      "space: 2 \n",
      "special char: 4 \n",
      "char: 16 \n",
      "vowel: 3\n"
     ]
    }
   ],
   "source": [
    "st=input(\"Enter any string: \")\n",
    "st=st.lower()\n",
    "v=0\n",
    "sc=0\n",
    "s=0\n",
    "ch=len(st)\n",
    "for i in st:\n",
    "    if i==\" \":\n",
    "        s=s+1\n",
    "    if i=='a' or i=='e' or i=='i' or i=='o' or i=='u':\n",
    "        v=v+1\n",
    "    if ord(i)>=ord('a') and ord(i)>=ord('z'):\n",
    "        ch=ch+1\n",
    "    if (ord(i)>=32 and ord(i)<=47 or ord(i)>=58 and ord(i)<=64 or ord(i)>=91 and ord(i)<=96 or ord(i)>=123 and ord(i)<=127) and ord(i)!=ord(\" \"):\n",
    "        sc=sc+1\n",
    "print(\"space:\",s,\"\\nspecial char:\",sc,\"\\nchar:\",ch,\"\\nvowel:\",v)"
   ]
  },
  {
   "cell_type": "markdown",
   "metadata": {},
   "source": [
    "WAP to read a file and found the number of words."
   ]
  },
  {
   "cell_type": "code",
   "execution_count": 5,
   "metadata": {},
   "outputs": [
    {
     "name": "stdout",
     "output_type": "stream",
     "text": [
      "['Finite', 'Automata', 'is', 'the', 'simplest', 'machine', 'to', 'recognize', 'patterns.'] \n",
      "length : 9\n"
     ]
    }
   ],
   "source": [
    "filename=(\"f.txt\")\n",
    "with open(filename,'r') as file:\n",
    "    for line in file:\n",
    "        word=line.split()\n",
    "    print(word,\"\\nlength :\",len(word))"
   ]
  },
  {
   "cell_type": "markdown",
   "metadata": {},
   "source": [
    "WAP to accept a string contaning multiple 'is' and replace with 'was'."
   ]
  },
  {
   "cell_type": "code",
   "execution_count": 6,
   "metadata": {},
   "outputs": [
    {
     "name": "stdin",
     "output_type": "stream",
     "text": [
      "Enter any string:  Rahul is good.\n"
     ]
    },
    {
     "name": "stdout",
     "output_type": "stream",
     "text": [
      "Rahul was good.\n"
     ]
    }
   ],
   "source": [
    "s=input(\"Enter any string: \")\n",
    "word=s.replace(' is ',' was ')\n",
    "print(word)"
   ]
  },
  {
   "cell_type": "code",
   "execution_count": null,
   "metadata": {},
   "outputs": [],
   "source": []
  }
 ],
 "metadata": {
  "kernelspec": {
   "display_name": "Python 3",
   "language": "python",
   "name": "python3"
  },
  "language_info": {
   "codemirror_mode": {
    "name": "ipython",
    "version": 3
   },
   "file_extension": ".py",
   "mimetype": "text/x-python",
   "name": "python",
   "nbconvert_exporter": "python",
   "pygments_lexer": "ipython3",
   "version": "3.7.3"
  }
 },
 "nbformat": 4,
 "nbformat_minor": 4
}
