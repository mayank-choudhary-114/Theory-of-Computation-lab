{
 "cells": [
  {
   "cell_type": "markdown",
   "metadata": {},
   "source": [
    "Mealy machine that output even or odd as number of 1's are even or odd(Method 1)"
   ]
  },
  {
   "cell_type": "code",
   "execution_count": 3,
   "metadata": {},
   "outputs": [
    {
     "name": "stdin",
     "output_type": "stream",
     "text": [
      "Enter any string:  101\n"
     ]
    },
    {
     "name": "stdout",
     "output_type": "stream",
     "text": [
      "you entered  101  string\n",
      "OUTPUT:   Even\n",
      "1 for continue | 2 for stop\n"
     ]
    },
    {
     "name": "stdin",
     "output_type": "stream",
     "text": [
      "Enter your choice: 1\n"
     ]
    },
    {
     "name": "stdout",
     "output_type": "stream",
     "text": [
      "you choose  1  option\n"
     ]
    },
    {
     "name": "stdin",
     "output_type": "stream",
     "text": [
      "Enter any string:  10101\n"
     ]
    },
    {
     "name": "stdout",
     "output_type": "stream",
     "text": [
      "you entered  10101  string\n",
      "OUTPUT:   Odd\n",
      "1 for continue | 2 for stop\n"
     ]
    },
    {
     "name": "stdin",
     "output_type": "stream",
     "text": [
      "Enter your choice: 2\n"
     ]
    },
    {
     "name": "stdout",
     "output_type": "stream",
     "text": [
      "you choose  2  option\n",
      "you are exited\n"
     ]
    }
   ],
   "source": [
    "while True:\n",
    "    dfa={'A':{'0':{'output':'Even','state':'A'},'1':{'output':'Odd','state':'B'}},\n",
    "         'B':{'0':{'output':'Odd','state':'B'},'1':{'output':'Even','state':'A'}}}\n",
    "    st=input(\"Enter any string: \")\n",
    "    print(\"you entered \",st,\" string\")\n",
    "    ini='A'\n",
    "    for i in st:\n",
    "        output=dfa[ini][i]['output']\n",
    "        ini=dfa[ini][i]['state']\n",
    "    print(\"OUTPUT:  \",output)\n",
    "    print(\"1 for continue | 2 for stop\")\n",
    "    c=int(input(\"Enter your choice:\"))\n",
    "    print(\"you choose \",c,\" option\")\n",
    "    if c==2:\n",
    "        print(\"you are exited\")\n",
    "        break"
   ]
  },
  {
   "cell_type": "markdown",
   "metadata": {},
   "source": [
    "Mealy machine that output even or odd as number of 1's are even or odd(Method 2)"
   ]
  },
  {
   "cell_type": "code",
   "execution_count": 2,
   "metadata": {},
   "outputs": [
    {
     "name": "stdin",
     "output_type": "stream",
     "text": [
      "Enter any string:  110001\n"
     ]
    },
    {
     "name": "stdout",
     "output_type": "stream",
     "text": [
      "you entered  110001  string\n",
      "OUTPUT:   Odd\n",
      "1 for continue | 2 for stop\n"
     ]
    },
    {
     "name": "stdin",
     "output_type": "stream",
     "text": [
      "Enter your choice: 1\n"
     ]
    },
    {
     "name": "stdout",
     "output_type": "stream",
     "text": [
      "you choose  1  option\n"
     ]
    },
    {
     "name": "stdin",
     "output_type": "stream",
     "text": [
      "Enter any string:  101101\n"
     ]
    },
    {
     "name": "stdout",
     "output_type": "stream",
     "text": [
      "you entered  101101  string\n",
      "OUTPUT:   Even\n",
      "1 for continue | 2 for stop\n"
     ]
    },
    {
     "name": "stdin",
     "output_type": "stream",
     "text": [
      "Enter your choice: 2\n"
     ]
    },
    {
     "name": "stdout",
     "output_type": "stream",
     "text": [
      "you choose  2  option\n",
      "you are exited\n"
     ]
    }
   ],
   "source": [
    "while True:\n",
    "    dfa={'A':{'0':('Even','A'),'1':('Odd','B')},'B':{'0':('Odd','B'),'1':('Even','A')}}\n",
    "    st=input(\"Enter any string: \")\n",
    "    print(\"you entered \",st,\" string\")\n",
    "    ini='A'\n",
    "    for i in st:\n",
    "        output=dfa[ini][i][0]\n",
    "        ini=dfa[ini][i][1]\n",
    "    print(\"OUTPUT:  \",output)\n",
    "    print(\"1 for continue | 2 for stop\")\n",
    "    c=int(input(\"Enter your choice:\"))\n",
    "    print(\"you choose \",c,\" option\")\n",
    "    if c==2:\n",
    "        print(\"you are exited\")\n",
    "        break"
   ]
  },
  {
   "cell_type": "markdown",
   "metadata": {},
   "source": [
    "Mealy machine that output even or odd as number of 1's are even or odd(Method 3)"
   ]
  },
  {
   "cell_type": "code",
   "execution_count": 1,
   "metadata": {},
   "outputs": [
    {
     "name": "stdin",
     "output_type": "stream",
     "text": [
      "Enter any string:  1010\n"
     ]
    },
    {
     "name": "stdout",
     "output_type": "stream",
     "text": [
      "you entered  1010  string\n",
      "OUTPUT:   Even\n",
      "1 for continue | 2 for stop\n"
     ]
    },
    {
     "name": "stdin",
     "output_type": "stream",
     "text": [
      "Enter your choice: 1\n"
     ]
    },
    {
     "name": "stdout",
     "output_type": "stream",
     "text": [
      "you choose  1  option\n"
     ]
    },
    {
     "name": "stdin",
     "output_type": "stream",
     "text": [
      "Enter any string:  1110011\n"
     ]
    },
    {
     "name": "stdout",
     "output_type": "stream",
     "text": [
      "you entered  1110011  string\n",
      "OUTPUT:   Odd\n",
      "1 for continue | 2 for stop\n"
     ]
    },
    {
     "name": "stdin",
     "output_type": "stream",
     "text": [
      "Enter your choice: 2\n"
     ]
    },
    {
     "name": "stdout",
     "output_type": "stream",
     "text": [
      "you choose  2  option\n",
      "you are exited\n"
     ]
    }
   ],
   "source": [
    "while True:\n",
    "    dfa={'A':{'0':['Even','A'],'1':['Odd','B']},'B':{'0':['Odd','B'],'1':['Even','A']}}\n",
    "    st=input(\"Enter any string: \")\n",
    "    print(\"you entered \",st,\" string\")\n",
    "    ini='A'\n",
    "    for i in st:\n",
    "        output=dfa[ini][i][0]\n",
    "        ini=dfa[ini][i][1]\n",
    "    print(\"OUTPUT:  \",output)\n",
    "    print(\"1 for continue | 2 for stop\")\n",
    "    c=int(input(\"Enter your choice:\"))\n",
    "    print(\"you choose \",c,\" option\")\n",
    "    if c==2:\n",
    "        print(\"you are exited\")\n",
    "        break"
   ]
  },
  {
   "cell_type": "code",
   "execution_count": null,
   "metadata": {},
   "outputs": [],
   "source": []
  }
 ],
 "metadata": {
  "kernelspec": {
   "display_name": "Python 3",
   "language": "python",
   "name": "python3"
  },
  "language_info": {
   "codemirror_mode": {
    "name": "ipython",
    "version": 3
   },
   "file_extension": ".py",
   "mimetype": "text/x-python",
   "name": "python",
   "nbconvert_exporter": "python",
   "pygments_lexer": "ipython3",
   "version": "3.7.3"
  }
 },
 "nbformat": 4,
 "nbformat_minor": 4
}
