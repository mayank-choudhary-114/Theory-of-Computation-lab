{
 "cells": [
  {
   "cell_type": "markdown",
   "metadata": {},
   "source": [
    "WAP for Queue imlementation."
   ]
  },
  {
   "cell_type": "code",
   "execution_count": 1,
   "metadata": {},
   "outputs": [
    {
     "name": "stdout",
     "output_type": "stream",
     "text": [
      "\n",
      "1 for push element in queue\n",
      "2 for pop elemnet from queue\n",
      "3 for size of queue\n",
      "4 for print the queue\n",
      "5 for stop the program\n"
     ]
    },
    {
     "name": "stdin",
     "output_type": "stream",
     "text": [
      "Enter your choice: 1\n",
      "Enter element: 10\n"
     ]
    },
    {
     "name": "stdout",
     "output_type": "stream",
     "text": [
      "10 is in queue\n",
      "\n",
      "1 for push element in queue\n",
      "2 for pop elemnet from queue\n",
      "3 for size of queue\n",
      "4 for print the queue\n",
      "5 for stop the program\n"
     ]
    },
    {
     "name": "stdin",
     "output_type": "stream",
     "text": [
      "Enter your choice: 1\n",
      "Enter element: 20\n"
     ]
    },
    {
     "name": "stdout",
     "output_type": "stream",
     "text": [
      "20 is in queue\n",
      "\n",
      "1 for push element in queue\n",
      "2 for pop elemnet from queue\n",
      "3 for size of queue\n",
      "4 for print the queue\n",
      "5 for stop the program\n"
     ]
    },
    {
     "name": "stdin",
     "output_type": "stream",
     "text": [
      "Enter your choice: 1\n",
      "Enter element: 30\n"
     ]
    },
    {
     "name": "stdout",
     "output_type": "stream",
     "text": [
      "30 is in queue\n",
      "\n",
      "1 for push element in queue\n",
      "2 for pop elemnet from queue\n",
      "3 for size of queue\n",
      "4 for print the queue\n",
      "5 for stop the program\n"
     ]
    },
    {
     "name": "stdin",
     "output_type": "stream",
     "text": [
      "Enter your choice: 4\n"
     ]
    },
    {
     "name": "stdout",
     "output_type": "stream",
     "text": [
      "Your Queue is:  ['10', '20', '30']\n",
      "\n",
      "1 for push element in queue\n",
      "2 for pop elemnet from queue\n",
      "3 for size of queue\n",
      "4 for print the queue\n",
      "5 for stop the program\n"
     ]
    },
    {
     "name": "stdin",
     "output_type": "stream",
     "text": [
      "Enter your choice: 3\n"
     ]
    },
    {
     "name": "stdout",
     "output_type": "stream",
     "text": [
      "size of queue is: 3\n",
      "\n",
      "1 for push element in queue\n",
      "2 for pop elemnet from queue\n",
      "3 for size of queue\n",
      "4 for print the queue\n",
      "5 for stop the program\n"
     ]
    },
    {
     "name": "stdin",
     "output_type": "stream",
     "text": [
      "Enter your choice: 2\n"
     ]
    },
    {
     "name": "stdout",
     "output_type": "stream",
     "text": [
      "10 is deleted from queue\n",
      "\n",
      "1 for push element in queue\n",
      "2 for pop elemnet from queue\n",
      "3 for size of queue\n",
      "4 for print the queue\n",
      "5 for stop the program\n"
     ]
    },
    {
     "name": "stdin",
     "output_type": "stream",
     "text": [
      "Enter your choice: 3\n"
     ]
    },
    {
     "name": "stdout",
     "output_type": "stream",
     "text": [
      "size of queue is: 2\n",
      "\n",
      "1 for push element in queue\n",
      "2 for pop elemnet from queue\n",
      "3 for size of queue\n",
      "4 for print the queue\n",
      "5 for stop the program\n"
     ]
    },
    {
     "name": "stdin",
     "output_type": "stream",
     "text": [
      "Enter your choice: 4\n"
     ]
    },
    {
     "name": "stdout",
     "output_type": "stream",
     "text": [
      "Your Queue is:  ['20', '30']\n",
      "\n",
      "1 for push element in queue\n",
      "2 for pop elemnet from queue\n",
      "3 for size of queue\n",
      "4 for print the queue\n",
      "5 for stop the program\n"
     ]
    },
    {
     "name": "stdin",
     "output_type": "stream",
     "text": [
      "Enter your choice: 5\n"
     ]
    },
    {
     "name": "stdout",
     "output_type": "stream",
     "text": [
      "** you are exited from the program **\n"
     ]
    }
   ],
   "source": [
    "class Queue:\n",
    "    def __init__(self):\n",
    "        self.items=[]\n",
    "    def enqueue(self):\n",
    "        i=input(\"Enter element:\")\n",
    "        self.items.append(i)\n",
    "        print(i,\"is in queue\")\n",
    "    def delete(self):\n",
    "        if len(self.items)==0:\n",
    "            print(\"Queue is already empty\")\n",
    "        else:\n",
    "            i=self.items.pop(0)\n",
    "            print(i,\"is deleted from queue\")\n",
    "    def size(self):\n",
    "        if len(self.items)==0:\n",
    "            print(\"Queue is empty\")\n",
    "        else:\n",
    "            print(\"size of queue is:\",len(self.items))\n",
    "    def print_queue(self):\n",
    "        if len(self.items)==0:\n",
    "            print(\"Queue is empty\")\n",
    "        else:\n",
    "            print(\"Your Queue is: \",self.items)\n",
    "q=Queue()\n",
    "while 1:\n",
    "    print(\"\\n1 for push element in queue\\n2 for pop elemnet from queue\\n3 for size of queue\\n4 for print the queue\\n5 for stop the program\")\n",
    "    ch=input(\"Enter your choice:\")\n",
    "    if ch==\"1\":\n",
    "        q.enqueue()\n",
    "    elif ch==\"2\":\n",
    "        q.delete()\n",
    "    elif ch==\"3\":\n",
    "        q.size()\n",
    "    elif ch==\"4\":\n",
    "        q.print_queue()\n",
    "    elif ch==\"5\":\n",
    "        print(\"** you are exited from the program **\")\n",
    "        break\n",
    "    else:\n",
    "        print(\"** choose correct option **\")"
   ]
  },
  {
   "cell_type": "markdown",
   "metadata": {},
   "source": [
    "WAP for Doubly Quenue implementation."
   ]
  },
  {
   "cell_type": "code",
   "execution_count": 2,
   "metadata": {},
   "outputs": [
    {
     "name": "stdout",
     "output_type": "stream",
     "text": [
      "\n",
      "1 for push element in queue\n",
      "2 for pop elemnet from queue\n",
      "3 for size of queue\n",
      "4 for print the queue\n",
      "5 for stop the program\n"
     ]
    },
    {
     "name": "stdin",
     "output_type": "stream",
     "text": [
      "Enter your choice: 1\n",
      "Enter element: 2\n"
     ]
    },
    {
     "name": "stdout",
     "output_type": "stream",
     "text": [
      "Insert at 1st position press 1\n",
      "Insert at last position press 2\n"
     ]
    },
    {
     "name": "stdin",
     "output_type": "stream",
     "text": [
      " 1\n"
     ]
    },
    {
     "name": "stdout",
     "output_type": "stream",
     "text": [
      "2 is in queue\n",
      "\n",
      "1 for push element in queue\n",
      "2 for pop elemnet from queue\n",
      "3 for size of queue\n",
      "4 for print the queue\n",
      "5 for stop the program\n"
     ]
    },
    {
     "name": "stdin",
     "output_type": "stream",
     "text": [
      "Enter your choice: 1\n",
      "Enter element: 4\n"
     ]
    },
    {
     "name": "stdout",
     "output_type": "stream",
     "text": [
      "Insert at 1st position press 1\n",
      "Insert at last position press 2\n"
     ]
    },
    {
     "name": "stdin",
     "output_type": "stream",
     "text": [
      " 1\n"
     ]
    },
    {
     "name": "stdout",
     "output_type": "stream",
     "text": [
      "4 is in queue\n",
      "\n",
      "1 for push element in queue\n",
      "2 for pop elemnet from queue\n",
      "3 for size of queue\n",
      "4 for print the queue\n",
      "5 for stop the program\n"
     ]
    },
    {
     "name": "stdin",
     "output_type": "stream",
     "text": [
      "Enter your choice: 1\n",
      "Enter element: 6\n"
     ]
    },
    {
     "name": "stdout",
     "output_type": "stream",
     "text": [
      "Insert at 1st position press 1\n",
      "Insert at last position press 2\n"
     ]
    },
    {
     "name": "stdin",
     "output_type": "stream",
     "text": [
      " 2\n"
     ]
    },
    {
     "name": "stdout",
     "output_type": "stream",
     "text": [
      "6 is in queue\n",
      "\n",
      "1 for push element in queue\n",
      "2 for pop elemnet from queue\n",
      "3 for size of queue\n",
      "4 for print the queue\n",
      "5 for stop the program\n"
     ]
    },
    {
     "name": "stdin",
     "output_type": "stream",
     "text": [
      "Enter your choice: 3\n"
     ]
    },
    {
     "name": "stdout",
     "output_type": "stream",
     "text": [
      "size of queue is: 3\n",
      "\n",
      "1 for push element in queue\n",
      "2 for pop elemnet from queue\n",
      "3 for size of queue\n",
      "4 for print the queue\n",
      "5 for stop the program\n"
     ]
    },
    {
     "name": "stdin",
     "output_type": "stream",
     "text": [
      "Enter your choice: 4\n"
     ]
    },
    {
     "name": "stdout",
     "output_type": "stream",
     "text": [
      "Your Queue is:  ['4', '2', '6']\n",
      "\n",
      "1 for push element in queue\n",
      "2 for pop elemnet from queue\n",
      "3 for size of queue\n",
      "4 for print the queue\n",
      "5 for stop the program\n"
     ]
    },
    {
     "name": "stdin",
     "output_type": "stream",
     "text": [
      "Enter your choice: 2\n"
     ]
    },
    {
     "name": "stdout",
     "output_type": "stream",
     "text": [
      "Delete from 1st position press 1\n",
      "Delete from last position press 2\n"
     ]
    },
    {
     "name": "stdin",
     "output_type": "stream",
     "text": [
      " 1\n"
     ]
    },
    {
     "name": "stdout",
     "output_type": "stream",
     "text": [
      "1st element  4  is deleted from queue\n",
      "\n",
      "1 for push element in queue\n",
      "2 for pop elemnet from queue\n",
      "3 for size of queue\n",
      "4 for print the queue\n",
      "5 for stop the program\n"
     ]
    },
    {
     "name": "stdin",
     "output_type": "stream",
     "text": [
      "Enter your choice: 4\n"
     ]
    },
    {
     "name": "stdout",
     "output_type": "stream",
     "text": [
      "Your Queue is:  ['2', '6']\n",
      "\n",
      "1 for push element in queue\n",
      "2 for pop elemnet from queue\n",
      "3 for size of queue\n",
      "4 for print the queue\n",
      "5 for stop the program\n"
     ]
    },
    {
     "name": "stdin",
     "output_type": "stream",
     "text": [
      "Enter your choice: 5\n"
     ]
    },
    {
     "name": "stdout",
     "output_type": "stream",
     "text": [
      "** you are exited from the program **\n"
     ]
    }
   ],
   "source": [
    "class DQueue:\n",
    "    def __init__(self):\n",
    "        self.items=[]\n",
    "    def enqueue(self):\n",
    "        i=input(\"Enter element:\")\n",
    "        print(\"Insert at 1st position press 1\\nInsert at last position press 2\")\n",
    "        x=int(input())\n",
    "        if x==1:\n",
    "            self.items.insert(0,i)\n",
    "            print(i,\"is in queue\")\n",
    "        elif x==2:\n",
    "            self.items.append(i)\n",
    "            print(i,\"is in queue\")\n",
    "    def delete(self):\n",
    "        if len(self.items)==0:\n",
    "            print(\"queue is already empty\")\n",
    "        else:\n",
    "            print(\"Delete from 1st position press 1\\nDelete from last position press 2\")\n",
    "            x=int(input())\n",
    "            if x==1:\n",
    "                i=self.items.pop(0)\n",
    "                print(\"1st element \",i,\" is deleted from queue\")\n",
    "            elif x==2:\n",
    "                self.items.pop()\n",
    "                print(\"last element \",i,\" is deleted from queue\")\n",
    "    def size(self):\n",
    "        if len(self.items)==0:\n",
    "            print(\"Queue is empty\")\n",
    "        else:\n",
    "            print(\"size of queue is:\",len(self.items))\n",
    "    def print_queue(self):\n",
    "        if len(self.items)==0:\n",
    "            print(\"Queue is empty\")\n",
    "        else:\n",
    "            print(\"Your Queue is: \",self.items)\n",
    "q=DQueue()\n",
    "while 1:\n",
    "    print(\"\\n1 for push element in queue\\n2 for pop elemnet from queue\\n3 for size of queue\\n4 for print the queue\\n5 for stop the program\")\n",
    "    ch=input(\"Enter your choice:\")\n",
    "    if ch==\"1\":\n",
    "        q.enqueue()\n",
    "    elif ch==\"2\":\n",
    "        q.delete()\n",
    "    elif ch==\"3\":\n",
    "        q.size()\n",
    "    elif ch==\"4\":\n",
    "        q.print_queue()\n",
    "    elif ch==\"5\":\n",
    "        print(\"** you are exited from the program **\")\n",
    "        break\n",
    "    else:\n",
    "        print(\"** choose correct option **\")"
   ]
  }
 ],
 "metadata": {
  "kernelspec": {
   "display_name": "Python 3",
   "language": "python",
   "name": "python3"
  },
  "language_info": {
   "codemirror_mode": {
    "name": "ipython",
    "version": 3
   },
   "file_extension": ".py",
   "mimetype": "text/x-python",
   "name": "python",
   "nbconvert_exporter": "python",
   "pygments_lexer": "ipython3",
   "version": "3.7.3"
  }
 },
 "nbformat": 4,
 "nbformat_minor": 4
}
