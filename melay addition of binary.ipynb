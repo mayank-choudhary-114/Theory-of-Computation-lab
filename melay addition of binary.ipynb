{
 "cells": [
  {
   "cell_type": "markdown",
   "metadata": {},
   "source": [
    "Mealy machine for addition of two binary number."
   ]
  },
  {
   "cell_type": "code",
   "execution_count": 1,
   "metadata": {},
   "outputs": [
    {
     "name": "stdin",
     "output_type": "stream",
     "text": [
      "Enter first string:  00001100\n",
      "Enter second string:  01011001\n"
     ]
    },
    {
     "name": "stdout",
     "output_type": "stream",
     "text": [
      "Addition of given strings  00001100  and  01011001  is: 01100101\n",
      "\n",
      "1 for continue | 2 for stop\n"
     ]
    },
    {
     "name": "stdin",
     "output_type": "stream",
     "text": [
      "Enter your choice: 1\n"
     ]
    },
    {
     "name": "stdout",
     "output_type": "stream",
     "text": [
      "you choose  1  option\n"
     ]
    },
    {
     "name": "stdin",
     "output_type": "stream",
     "text": [
      "Enter first string:  01010\n",
      "Enter second string:  10101\n"
     ]
    },
    {
     "name": "stdout",
     "output_type": "stream",
     "text": [
      "Addition of given strings  01010  and  10101  is: 11111\n",
      "\n",
      "1 for continue | 2 for stop\n"
     ]
    },
    {
     "name": "stdin",
     "output_type": "stream",
     "text": [
      "Enter your choice: 2\n"
     ]
    },
    {
     "name": "stdout",
     "output_type": "stream",
     "text": [
      "you choose  2  option\n",
      "you are exited\n"
     ]
    }
   ],
   "source": [
    "while True:\n",
    "    dfa={'A':{'00':{'output':'0','state':'A'},'01':{'output':'1','state':'A'},'10':{'output':'1','state':'A'},'11':{'output':'0','state':'B'}},\n",
    "         'B':{'00':{'output':'1','state':'A'},'01':{'output':'0','state':'B'},'10':{'output':'0','state':'B'},'11':{'output':'1','state':'B'}}}\n",
    "    st=input(\"Enter first string: \")\n",
    "    st1=input(\"Enter second string: \")\n",
    "    print(\"Addition of given strings \",st,\" and \",st1,\" is: \",end=\"\")\n",
    "    st=st[::-1]\n",
    "    st1=st1[::-1]\n",
    "    ini='A'\n",
    "    output=[]\n",
    "    for i in range(len(st)):\n",
    "        k=st[i]+st1[i]\n",
    "        output.append(dfa[ini][k]['output'])\n",
    "        ini=dfa[ini][k]['state']\n",
    "    print(''.join(output[::-1]))\n",
    "    print(\"\\n1 for continue | 2 for stop\")\n",
    "    c=int(input(\"Enter your choice:\"))\n",
    "    print(\"you choose \",c,\" option\")\n",
    "    if c==2:\n",
    "        print(\"you are exited\")\n",
    "        break"
   ]
  }
 ],
 "metadata": {
  "kernelspec": {
   "display_name": "Python 3",
   "language": "python",
   "name": "python3"
  },
  "language_info": {
   "codemirror_mode": {
    "name": "ipython",
    "version": 3
   },
   "file_extension": ".py",
   "mimetype": "text/x-python",
   "name": "python",
   "nbconvert_exporter": "python",
   "pygments_lexer": "ipython3",
   "version": "3.7.3"
  }
 },
 "nbformat": 4,
 "nbformat_minor": 4
}
